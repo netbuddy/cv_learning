{
 "cells": [
  {
   "cell_type": "markdown",
   "metadata": {},
   "source": [
    "# 环境搭建\n",
    "## Python\n",
    "1. 安装Anaconda集成包\n",
    "``` bash\n",
    "sh ./Anaconda3-2020.02-Linux-x86_64.sh -b -p $HOME/tool/anaconda3 -s\n",
    "```\n",
    "\n",
    "2. 将python加入PATH环境变量\n",
    "``` bash\n",
    "vi ~/.bashrc\n",
    "export PATH=$HOME/anaconda3/bin:$PATH\n",
    "```\n",
    "\n",
    "## CUDA\n",
    "1. 安装NVIDIA Driver\n",
    "``` bash\n",
    "sudo sh ./NVIDIA-Linux-x86_64-430.40.run\n",
    "nvidia-smi\n",
    "```\n",
    "\n",
    "2. 安装CUDA Toolkit\n",
    "``` bash\n",
    "sudo sh ./cuda_10.1.105_418.39_linux.run --silent --toolkit --samples --no-opengl-libs\n",
    "/usr/local/cuda-10.1/bin/nvcc --version\n",
    "```\n",
    "\n",
    "## Pytorch\n",
    "1. 配置venv\n",
    "``` bash\n",
    "mkdir -p $HOME/venv/pytorch\n",
    "source $HOME/venv/pytorch/bin/activate\n",
    "pip install --no-index -f . ipykernel\n",
    "python -m ipykernel install --user --name=pytorch\n",
    "```\n",
    "\n",
    "2. 安装Pytorch\n",
    "``` bash\n",
    "(pytorch) $pip install --no-index -f . torch torchvision\n",
    "```\n",
    "\n",
    "3. 验证CUDA\n",
    "``` bash\n",
    "(pytorch) $python\n",
    ">>> import torch\n",
    ">>> torch.cuda.is_available()\n",
    ">>> torch.cuda.device_count()\n",
    ">>> torch.cuda.get_device_name()\n",
    ">>> torch.cuda.current_device()\n",
    ">>> from torch.backends import cudnn\n",
    ">>> cudnn.is_available()\n",
    ">>> a = torch.tensor(1,)\n",
    ">>> cudnn.is_acceptable(a.cuda())\n",
    "```\n",
    "\n",
    "4. 安装CV相关的工具包\n",
    "``` bash\n",
    "(pytorch) $pip install --no-index -f . pandas matplotlib opencv_python tqdm\n",
    "```"
   ]
  },
  {
   "cell_type": "code",
   "execution_count": null,
   "metadata": {},
   "outputs": [],
   "source": []
  }
 ],
 "metadata": {
  "kernelspec": {
   "display_name": "Python 3",
   "language": "python",
   "name": "python3"
  },
  "language_info": {
   "codemirror_mode": {
    "name": "ipython",
    "version": 3
   },
   "file_extension": ".py",
   "mimetype": "text/x-python",
   "name": "python",
   "nbconvert_exporter": "python",
   "pygments_lexer": "ipython3",
   "version": "3.7.6"
  }
 },
 "nbformat": 4,
 "nbformat_minor": 4
}
