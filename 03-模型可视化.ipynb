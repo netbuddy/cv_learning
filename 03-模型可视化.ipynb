{
 "cells": [
  {
   "cell_type": "markdown",
   "metadata": {},
   "source": [
    "PyTorch 从 1.2.0 版本开始，正式自带内置的 Tensorboard 支持了，可以 用Tensorboard 来进行模型可视化。\n",
    "1. 安装\n",
    "```\n",
    "pip install tensorboard\n",
    "```\n",
    "\n",
    "2. 运行\n",
    "在命令行中运行下列命令启动 Tensorboard：\n",
    "```\n",
    "tensorboard --logdir=/tmp/pytorch/ --port 6006\n",
    "```\n",
    "\n",
    "3. 功能测试\n"
   ]
  },
  {
   "cell_type": "code",
   "execution_count": null,
   "metadata": {},
   "outputs": [],
   "source": [
    "import cv2\n",
    "import torch\n",
    "from torch.utils.tensorboard import SummaryWriter\n",
    "\n",
    "writer = SummaryWriter('/tmp/pytorch')\n",
    "\n",
    "lena = cv2.imread('lena.jpg')\n",
    "lena = cv2.cvtColor(lena, cv2.COLOR_BGR2RGB)\n",
    "lena_tensor = torch.from_numpy(lena.transpose((2, 0, 1)))\n",
    "print(lena_tensor.size())\n",
    "\n",
    "# 写入\n",
    "writer.add_image('lena', lena_tensor)\n",
    "writer.close()"
   ]
  },
  {
   "cell_type": "markdown",
   "metadata": {},
   "source": [
    "![tensorboard](./tensorboard.png)"
   ]
  },
  {
   "cell_type": "code",
   "execution_count": null,
   "metadata": {},
   "outputs": [],
   "source": []
  }
 ],
 "metadata": {
  "kernelspec": {
   "display_name": "pytorch",
   "language": "python",
   "name": "pytorch"
  },
  "language_info": {
   "codemirror_mode": {
    "name": "ipython",
    "version": 3
   },
   "file_extension": ".py",
   "mimetype": "text/x-python",
   "name": "python",
   "nbconvert_exporter": "python",
   "pygments_lexer": "ipython3",
   "version": "3.7.6"
  }
 },
 "nbformat": 4,
 "nbformat_minor": 4
}
